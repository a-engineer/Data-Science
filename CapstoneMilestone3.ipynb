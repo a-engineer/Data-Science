{
  "nbformat": 4,
  "nbformat_minor": 0,
  "metadata": {
    "colab": {
      "name": "CapstoneMilestone3.ipynb",
      "provenance": [],
      "collapsed_sections": [],
      "toc_visible": true,
      "authorship_tag": "ABX9TyOwyrMa1Uw/0NDuHFL/Yq32",
      "include_colab_link": true
    },
    "kernelspec": {
      "name": "python3",
      "display_name": "Python 3"
    },
    "language_info": {
      "name": "python"
    }
  },
  "cells": [
    {
      "cell_type": "markdown",
      "metadata": {
        "id": "view-in-github",
        "colab_type": "text"
      },
      "source": [
        "<a href=\"https://colab.research.google.com/github/a-engineer/Data-Science/blob/main/CapstoneMilestone3.ipynb\" target=\"_parent\"><img src=\"https://colab.research.google.com/assets/colab-badge.svg\" alt=\"Open In Colab\"/></a>"
      ]
    },
    {
      "cell_type": "markdown",
      "source": [
        "## University: Grand Canyon University  \n",
        "### Course: DSC-580  Designing and Creating Data Products\n",
        "### Professor: Professor Elchouemi    \n",
        "### Student: Alfredo Sotelo  \n",
        "### Date: 4/13/22\n",
        "\n",
        "<h1><center>Capstone Milestone 3: Employee Productivity</center></h1>\n",
        "The following code performs a multilinear regression on the employee's productivity dataset from the author's workplace.  The following is an explanation of the columns:\n",
        "\n",
        "1. Employee - the emmployee that performed that worked.  The actual employee id was removed and replaced with a digit to protect the identity of the worker.\n",
        "2. reg_hours - this is the regular hours that were worked by an employee.\n",
        "3. ot_hours - this is the overtime hours that were worked by an employee.\n",
        "4. vac_hours - this is the amount of vacation hours that were worked by an employee.\n",
        "5. task1_hours - this is task 1 that was performed by an employee.\n",
        "6. task2_hours - this is task 2 that was performed by an employee.\n",
        "7. task3_hours - this is task 3 that was performed by an employee.\n",
        "8. task4_hours - this is task 4 that was performed by an employee.\n",
        "9. productivity - this is the productivity for an employee for a given year.\n",
        "\n",
        "\n",
        "The goal of this project is to perform a multilinear regression on this dataset by performing feature selection, data cleanup, and analysis."
      ],
      "metadata": {
        "id": "GUU3zmP27EyA"
      }
    },
    {
      "cell_type": "markdown",
      "source": [
        "The following imports the important libraries."
      ],
      "metadata": {
        "id": "jOsxGz0GRlP_"
      }
    },
    {
      "cell_type": "code",
      "execution_count": null,
      "metadata": {
        "id": "EUYdkE5E68GG",
        "colab": {
          "base_uri": "https://localhost:8080/"
        },
        "outputId": "e2e50d3f-b59b-47f8-c620-46c2a5c64c84"
      },
      "outputs": [
        {
          "output_type": "stream",
          "name": "stderr",
          "text": [
            "/usr/local/lib/python3.7/dist-packages/statsmodels/tools/_testing.py:19: FutureWarning: pandas.util.testing is deprecated. Use the functions in the public API at pandas.testing instead.\n",
            "  import pandas.util.testing as tm\n"
          ]
        }
      ],
      "source": [
        "import pandas as pd\n",
        "import numpy as np\n",
        "import statsmodels.api as sm"
      ]
    },
    {
      "cell_type": "markdown",
      "source": [
        "The following imports the employee productivity dataset."
      ],
      "metadata": {
        "id": "vcSxbuYLRnkk"
      }
    },
    {
      "cell_type": "code",
      "source": [
        "df = pd.read_csv(\"employee productivity v2.csv\")"
      ],
      "metadata": {
        "id": "qhl14XvzP5gU"
      },
      "execution_count": null,
      "outputs": []
    },
    {
      "cell_type": "markdown",
      "source": [
        "The following shows the first 5 rows of data."
      ],
      "metadata": {
        "id": "3D2MzTmERqgU"
      }
    },
    {
      "cell_type": "code",
      "source": [
        "df.head()"
      ],
      "metadata": {
        "colab": {
          "base_uri": "https://localhost:8080/",
          "height": 206
        },
        "id": "Up8jGDmxRhJm",
        "outputId": "d1fe21fc-a813-48e9-8330-2174c169ea16"
      },
      "execution_count": null,
      "outputs": [
        {
          "output_type": "execute_result",
          "data": {
            "text/plain": [
              "   employee  reg_hours  ot_hours  vac_hours  task1_hrs  task2_hrs  task3_hrs  \\\n",
              "0         1       1808       312         68        172        474        534   \n",
              "1         2       1700        39         18        519        400        277   \n",
              "2         3       2052       312         35        299        174        471   \n",
              "3         4       2063       275         55        507        225        132   \n",
              "4         5       1819       198         29        561        320        319   \n",
              "\n",
              "   task4_hrs  productivity  \n",
              "0        528          1125  \n",
              "1        202           471  \n",
              "2        475           863  \n",
              "3        242           419  \n",
              "4        573           749  "
            ],
            "text/html": [
              "\n",
              "  <div id=\"df-c9750616-7204-44dd-9122-a4eeb825dca4\">\n",
              "    <div class=\"colab-df-container\">\n",
              "      <div>\n",
              "<style scoped>\n",
              "    .dataframe tbody tr th:only-of-type {\n",
              "        vertical-align: middle;\n",
              "    }\n",
              "\n",
              "    .dataframe tbody tr th {\n",
              "        vertical-align: top;\n",
              "    }\n",
              "\n",
              "    .dataframe thead th {\n",
              "        text-align: right;\n",
              "    }\n",
              "</style>\n",
              "<table border=\"1\" class=\"dataframe\">\n",
              "  <thead>\n",
              "    <tr style=\"text-align: right;\">\n",
              "      <th></th>\n",
              "      <th>employee</th>\n",
              "      <th>reg_hours</th>\n",
              "      <th>ot_hours</th>\n",
              "      <th>vac_hours</th>\n",
              "      <th>task1_hrs</th>\n",
              "      <th>task2_hrs</th>\n",
              "      <th>task3_hrs</th>\n",
              "      <th>task4_hrs</th>\n",
              "      <th>productivity</th>\n",
              "    </tr>\n",
              "  </thead>\n",
              "  <tbody>\n",
              "    <tr>\n",
              "      <th>0</th>\n",
              "      <td>1</td>\n",
              "      <td>1808</td>\n",
              "      <td>312</td>\n",
              "      <td>68</td>\n",
              "      <td>172</td>\n",
              "      <td>474</td>\n",
              "      <td>534</td>\n",
              "      <td>528</td>\n",
              "      <td>1125</td>\n",
              "    </tr>\n",
              "    <tr>\n",
              "      <th>1</th>\n",
              "      <td>2</td>\n",
              "      <td>1700</td>\n",
              "      <td>39</td>\n",
              "      <td>18</td>\n",
              "      <td>519</td>\n",
              "      <td>400</td>\n",
              "      <td>277</td>\n",
              "      <td>202</td>\n",
              "      <td>471</td>\n",
              "    </tr>\n",
              "    <tr>\n",
              "      <th>2</th>\n",
              "      <td>3</td>\n",
              "      <td>2052</td>\n",
              "      <td>312</td>\n",
              "      <td>35</td>\n",
              "      <td>299</td>\n",
              "      <td>174</td>\n",
              "      <td>471</td>\n",
              "      <td>475</td>\n",
              "      <td>863</td>\n",
              "    </tr>\n",
              "    <tr>\n",
              "      <th>3</th>\n",
              "      <td>4</td>\n",
              "      <td>2063</td>\n",
              "      <td>275</td>\n",
              "      <td>55</td>\n",
              "      <td>507</td>\n",
              "      <td>225</td>\n",
              "      <td>132</td>\n",
              "      <td>242</td>\n",
              "      <td>419</td>\n",
              "    </tr>\n",
              "    <tr>\n",
              "      <th>4</th>\n",
              "      <td>5</td>\n",
              "      <td>1819</td>\n",
              "      <td>198</td>\n",
              "      <td>29</td>\n",
              "      <td>561</td>\n",
              "      <td>320</td>\n",
              "      <td>319</td>\n",
              "      <td>573</td>\n",
              "      <td>749</td>\n",
              "    </tr>\n",
              "  </tbody>\n",
              "</table>\n",
              "</div>\n",
              "      <button class=\"colab-df-convert\" onclick=\"convertToInteractive('df-c9750616-7204-44dd-9122-a4eeb825dca4')\"\n",
              "              title=\"Convert this dataframe to an interactive table.\"\n",
              "              style=\"display:none;\">\n",
              "        \n",
              "  <svg xmlns=\"http://www.w3.org/2000/svg\" height=\"24px\"viewBox=\"0 0 24 24\"\n",
              "       width=\"24px\">\n",
              "    <path d=\"M0 0h24v24H0V0z\" fill=\"none\"/>\n",
              "    <path d=\"M18.56 5.44l.94 2.06.94-2.06 2.06-.94-2.06-.94-.94-2.06-.94 2.06-2.06.94zm-11 1L8.5 8.5l.94-2.06 2.06-.94-2.06-.94L8.5 2.5l-.94 2.06-2.06.94zm10 10l.94 2.06.94-2.06 2.06-.94-2.06-.94-.94-2.06-.94 2.06-2.06.94z\"/><path d=\"M17.41 7.96l-1.37-1.37c-.4-.4-.92-.59-1.43-.59-.52 0-1.04.2-1.43.59L10.3 9.45l-7.72 7.72c-.78.78-.78 2.05 0 2.83L4 21.41c.39.39.9.59 1.41.59.51 0 1.02-.2 1.41-.59l7.78-7.78 2.81-2.81c.8-.78.8-2.07 0-2.86zM5.41 20L4 18.59l7.72-7.72 1.47 1.35L5.41 20z\"/>\n",
              "  </svg>\n",
              "      </button>\n",
              "      \n",
              "  <style>\n",
              "    .colab-df-container {\n",
              "      display:flex;\n",
              "      flex-wrap:wrap;\n",
              "      gap: 12px;\n",
              "    }\n",
              "\n",
              "    .colab-df-convert {\n",
              "      background-color: #E8F0FE;\n",
              "      border: none;\n",
              "      border-radius: 50%;\n",
              "      cursor: pointer;\n",
              "      display: none;\n",
              "      fill: #1967D2;\n",
              "      height: 32px;\n",
              "      padding: 0 0 0 0;\n",
              "      width: 32px;\n",
              "    }\n",
              "\n",
              "    .colab-df-convert:hover {\n",
              "      background-color: #E2EBFA;\n",
              "      box-shadow: 0px 1px 2px rgba(60, 64, 67, 0.3), 0px 1px 3px 1px rgba(60, 64, 67, 0.15);\n",
              "      fill: #174EA6;\n",
              "    }\n",
              "\n",
              "    [theme=dark] .colab-df-convert {\n",
              "      background-color: #3B4455;\n",
              "      fill: #D2E3FC;\n",
              "    }\n",
              "\n",
              "    [theme=dark] .colab-df-convert:hover {\n",
              "      background-color: #434B5C;\n",
              "      box-shadow: 0px 1px 3px 1px rgba(0, 0, 0, 0.15);\n",
              "      filter: drop-shadow(0px 1px 2px rgba(0, 0, 0, 0.3));\n",
              "      fill: #FFFFFF;\n",
              "    }\n",
              "  </style>\n",
              "\n",
              "      <script>\n",
              "        const buttonEl =\n",
              "          document.querySelector('#df-c9750616-7204-44dd-9122-a4eeb825dca4 button.colab-df-convert');\n",
              "        buttonEl.style.display =\n",
              "          google.colab.kernel.accessAllowed ? 'block' : 'none';\n",
              "\n",
              "        async function convertToInteractive(key) {\n",
              "          const element = document.querySelector('#df-c9750616-7204-44dd-9122-a4eeb825dca4');\n",
              "          const dataTable =\n",
              "            await google.colab.kernel.invokeFunction('convertToInteractive',\n",
              "                                                     [key], {});\n",
              "          if (!dataTable) return;\n",
              "\n",
              "          const docLinkHtml = 'Like what you see? Visit the ' +\n",
              "            '<a target=\"_blank\" href=https://colab.research.google.com/notebooks/data_table.ipynb>data table notebook</a>'\n",
              "            + ' to learn more about interactive tables.';\n",
              "          element.innerHTML = '';\n",
              "          dataTable['output_type'] = 'display_data';\n",
              "          await google.colab.output.renderOutput(dataTable, element);\n",
              "          const docLink = document.createElement('div');\n",
              "          docLink.innerHTML = docLinkHtml;\n",
              "          element.appendChild(docLink);\n",
              "        }\n",
              "      </script>\n",
              "    </div>\n",
              "  </div>\n",
              "  "
            ]
          },
          "metadata": {},
          "execution_count": 3
        }
      ]
    },
    {
      "cell_type": "markdown",
      "source": [
        "The following checks if any of the variables have null values."
      ],
      "metadata": {
        "id": "W2-W_FfxRwbS"
      }
    },
    {
      "cell_type": "code",
      "source": [
        "df.isnull().sum()"
      ],
      "metadata": {
        "colab": {
          "base_uri": "https://localhost:8080/"
        },
        "id": "HxKFoxipRtby",
        "outputId": "c0d52251-26c8-466e-cecf-e7d0f034b31d"
      },
      "execution_count": null,
      "outputs": [
        {
          "output_type": "execute_result",
          "data": {
            "text/plain": [
              "employee        0\n",
              "reg_hours       0\n",
              "ot_hours        0\n",
              "vac_hours       0\n",
              "task1_hrs       0\n",
              "task2_hrs       0\n",
              "task3_hrs       0\n",
              "task4_hrs       0\n",
              "productivity    0\n",
              "dtype: int64"
            ]
          },
          "metadata": {},
          "execution_count": 4
        }
      ]
    },
    {
      "cell_type": "markdown",
      "source": [
        "The follwing code tells us information about the type of data contained in the columns."
      ],
      "metadata": {
        "id": "qK_V1xfQR7QN"
      }
    },
    {
      "cell_type": "code",
      "source": [
        "df.info()"
      ],
      "metadata": {
        "colab": {
          "base_uri": "https://localhost:8080/"
        },
        "id": "ZR2-4ElbR5ay",
        "outputId": "bc799e6a-8964-4f2a-b038-341922cb0152"
      },
      "execution_count": null,
      "outputs": [
        {
          "output_type": "stream",
          "name": "stdout",
          "text": [
            "<class 'pandas.core.frame.DataFrame'>\n",
            "RangeIndex: 100 entries, 0 to 99\n",
            "Data columns (total 9 columns):\n",
            " #   Column        Non-Null Count  Dtype\n",
            "---  ------        --------------  -----\n",
            " 0   employee      100 non-null    int64\n",
            " 1   reg_hours     100 non-null    int64\n",
            " 2   ot_hours      100 non-null    int64\n",
            " 3   vac_hours     100 non-null    int64\n",
            " 4   task1_hrs     100 non-null    int64\n",
            " 5   task2_hrs     100 non-null    int64\n",
            " 6   task3_hrs     100 non-null    int64\n",
            " 7   task4_hrs     100 non-null    int64\n",
            " 8   productivity  100 non-null    int64\n",
            "dtypes: int64(9)\n",
            "memory usage: 7.2 KB\n"
          ]
        }
      ]
    },
    {
      "cell_type": "markdown",
      "source": [
        "Since all of the data is numerical we won't have to convert any categorical values."
      ],
      "metadata": {
        "id": "AS2iVeK1SBY5"
      }
    },
    {
      "cell_type": "code",
      "source": [
        "df.columns"
      ],
      "metadata": {
        "colab": {
          "base_uri": "https://localhost:8080/"
        },
        "id": "vUwqF5jVTOGG",
        "outputId": "22b8768b-65bb-4c9a-c7cd-5a087b8e912c"
      },
      "execution_count": null,
      "outputs": [
        {
          "output_type": "execute_result",
          "data": {
            "text/plain": [
              "Index(['employee', 'reg_hours', 'ot_hours', 'vac_hours', 'task1_hrs',\n",
              "       'task2_hrs', 'task3_hrs', 'task4_hrs', 'productivity'],\n",
              "      dtype='object')"
            ]
          },
          "metadata": {},
          "execution_count": 6
        }
      ]
    },
    {
      "cell_type": "markdown",
      "source": [
        "Now we will assign the independent variables to the X variable and the dependent variable to the y variable. "
      ],
      "metadata": {
        "id": "mJsFcyA1TRNG"
      }
    },
    {
      "cell_type": "code",
      "source": [
        "X = df.drop(['productivity','employee'], axis=1)\n",
        "X = sm.add_constant(X)\n",
        "X"
      ],
      "metadata": {
        "colab": {
          "base_uri": "https://localhost:8080/",
          "height": 478
        },
        "id": "qnP9wVmlTQmD",
        "outputId": "d6d4b071-6360-405c-e34d-4516f028b524"
      },
      "execution_count": null,
      "outputs": [
        {
          "output_type": "stream",
          "name": "stderr",
          "text": [
            "/usr/local/lib/python3.7/dist-packages/statsmodels/tsa/tsatools.py:117: FutureWarning: In a future version of pandas all arguments of concat except for the argument 'objs' will be keyword-only\n",
            "  x = pd.concat(x[::order], 1)\n"
          ]
        },
        {
          "output_type": "execute_result",
          "data": {
            "text/plain": [
              "    const  reg_hours  ot_hours  vac_hours  task1_hrs  task2_hrs  task3_hrs  \\\n",
              "0     1.0       1808       312         68        172        474        534   \n",
              "1     1.0       1700        39         18        519        400        277   \n",
              "2     1.0       2052       312         35        299        174        471   \n",
              "3     1.0       2063       275         55        507        225        132   \n",
              "4     1.0       1819       198         29        561        320        319   \n",
              "..    ...        ...       ...        ...        ...        ...        ...   \n",
              "95    1.0       1931       262         50        328        445        478   \n",
              "96    1.0       1489        71         64        182        305        304   \n",
              "97    1.0       1566       430         62        149        337        325   \n",
              "98    1.0       1495       340         16        556        399        570   \n",
              "99    1.0       1801       119         34        558        593        388   \n",
              "\n",
              "    task4_hrs  \n",
              "0         528  \n",
              "1         202  \n",
              "2         475  \n",
              "3         242  \n",
              "4         573  \n",
              "..        ...  \n",
              "95        206  \n",
              "96        433  \n",
              "97        498  \n",
              "98        275  \n",
              "99        302  \n",
              "\n",
              "[100 rows x 8 columns]"
            ],
            "text/html": [
              "\n",
              "  <div id=\"df-c4b4b14e-da65-4486-a72d-18637ac7578f\">\n",
              "    <div class=\"colab-df-container\">\n",
              "      <div>\n",
              "<style scoped>\n",
              "    .dataframe tbody tr th:only-of-type {\n",
              "        vertical-align: middle;\n",
              "    }\n",
              "\n",
              "    .dataframe tbody tr th {\n",
              "        vertical-align: top;\n",
              "    }\n",
              "\n",
              "    .dataframe thead th {\n",
              "        text-align: right;\n",
              "    }\n",
              "</style>\n",
              "<table border=\"1\" class=\"dataframe\">\n",
              "  <thead>\n",
              "    <tr style=\"text-align: right;\">\n",
              "      <th></th>\n",
              "      <th>const</th>\n",
              "      <th>reg_hours</th>\n",
              "      <th>ot_hours</th>\n",
              "      <th>vac_hours</th>\n",
              "      <th>task1_hrs</th>\n",
              "      <th>task2_hrs</th>\n",
              "      <th>task3_hrs</th>\n",
              "      <th>task4_hrs</th>\n",
              "    </tr>\n",
              "  </thead>\n",
              "  <tbody>\n",
              "    <tr>\n",
              "      <th>0</th>\n",
              "      <td>1.0</td>\n",
              "      <td>1808</td>\n",
              "      <td>312</td>\n",
              "      <td>68</td>\n",
              "      <td>172</td>\n",
              "      <td>474</td>\n",
              "      <td>534</td>\n",
              "      <td>528</td>\n",
              "    </tr>\n",
              "    <tr>\n",
              "      <th>1</th>\n",
              "      <td>1.0</td>\n",
              "      <td>1700</td>\n",
              "      <td>39</td>\n",
              "      <td>18</td>\n",
              "      <td>519</td>\n",
              "      <td>400</td>\n",
              "      <td>277</td>\n",
              "      <td>202</td>\n",
              "    </tr>\n",
              "    <tr>\n",
              "      <th>2</th>\n",
              "      <td>1.0</td>\n",
              "      <td>2052</td>\n",
              "      <td>312</td>\n",
              "      <td>35</td>\n",
              "      <td>299</td>\n",
              "      <td>174</td>\n",
              "      <td>471</td>\n",
              "      <td>475</td>\n",
              "    </tr>\n",
              "    <tr>\n",
              "      <th>3</th>\n",
              "      <td>1.0</td>\n",
              "      <td>2063</td>\n",
              "      <td>275</td>\n",
              "      <td>55</td>\n",
              "      <td>507</td>\n",
              "      <td>225</td>\n",
              "      <td>132</td>\n",
              "      <td>242</td>\n",
              "    </tr>\n",
              "    <tr>\n",
              "      <th>4</th>\n",
              "      <td>1.0</td>\n",
              "      <td>1819</td>\n",
              "      <td>198</td>\n",
              "      <td>29</td>\n",
              "      <td>561</td>\n",
              "      <td>320</td>\n",
              "      <td>319</td>\n",
              "      <td>573</td>\n",
              "    </tr>\n",
              "    <tr>\n",
              "      <th>...</th>\n",
              "      <td>...</td>\n",
              "      <td>...</td>\n",
              "      <td>...</td>\n",
              "      <td>...</td>\n",
              "      <td>...</td>\n",
              "      <td>...</td>\n",
              "      <td>...</td>\n",
              "      <td>...</td>\n",
              "    </tr>\n",
              "    <tr>\n",
              "      <th>95</th>\n",
              "      <td>1.0</td>\n",
              "      <td>1931</td>\n",
              "      <td>262</td>\n",
              "      <td>50</td>\n",
              "      <td>328</td>\n",
              "      <td>445</td>\n",
              "      <td>478</td>\n",
              "      <td>206</td>\n",
              "    </tr>\n",
              "    <tr>\n",
              "      <th>96</th>\n",
              "      <td>1.0</td>\n",
              "      <td>1489</td>\n",
              "      <td>71</td>\n",
              "      <td>64</td>\n",
              "      <td>182</td>\n",
              "      <td>305</td>\n",
              "      <td>304</td>\n",
              "      <td>433</td>\n",
              "    </tr>\n",
              "    <tr>\n",
              "      <th>97</th>\n",
              "      <td>1.0</td>\n",
              "      <td>1566</td>\n",
              "      <td>430</td>\n",
              "      <td>62</td>\n",
              "      <td>149</td>\n",
              "      <td>337</td>\n",
              "      <td>325</td>\n",
              "      <td>498</td>\n",
              "    </tr>\n",
              "    <tr>\n",
              "      <th>98</th>\n",
              "      <td>1.0</td>\n",
              "      <td>1495</td>\n",
              "      <td>340</td>\n",
              "      <td>16</td>\n",
              "      <td>556</td>\n",
              "      <td>399</td>\n",
              "      <td>570</td>\n",
              "      <td>275</td>\n",
              "    </tr>\n",
              "    <tr>\n",
              "      <th>99</th>\n",
              "      <td>1.0</td>\n",
              "      <td>1801</td>\n",
              "      <td>119</td>\n",
              "      <td>34</td>\n",
              "      <td>558</td>\n",
              "      <td>593</td>\n",
              "      <td>388</td>\n",
              "      <td>302</td>\n",
              "    </tr>\n",
              "  </tbody>\n",
              "</table>\n",
              "<p>100 rows × 8 columns</p>\n",
              "</div>\n",
              "      <button class=\"colab-df-convert\" onclick=\"convertToInteractive('df-c4b4b14e-da65-4486-a72d-18637ac7578f')\"\n",
              "              title=\"Convert this dataframe to an interactive table.\"\n",
              "              style=\"display:none;\">\n",
              "        \n",
              "  <svg xmlns=\"http://www.w3.org/2000/svg\" height=\"24px\"viewBox=\"0 0 24 24\"\n",
              "       width=\"24px\">\n",
              "    <path d=\"M0 0h24v24H0V0z\" fill=\"none\"/>\n",
              "    <path d=\"M18.56 5.44l.94 2.06.94-2.06 2.06-.94-2.06-.94-.94-2.06-.94 2.06-2.06.94zm-11 1L8.5 8.5l.94-2.06 2.06-.94-2.06-.94L8.5 2.5l-.94 2.06-2.06.94zm10 10l.94 2.06.94-2.06 2.06-.94-2.06-.94-.94-2.06-.94 2.06-2.06.94z\"/><path d=\"M17.41 7.96l-1.37-1.37c-.4-.4-.92-.59-1.43-.59-.52 0-1.04.2-1.43.59L10.3 9.45l-7.72 7.72c-.78.78-.78 2.05 0 2.83L4 21.41c.39.39.9.59 1.41.59.51 0 1.02-.2 1.41-.59l7.78-7.78 2.81-2.81c.8-.78.8-2.07 0-2.86zM5.41 20L4 18.59l7.72-7.72 1.47 1.35L5.41 20z\"/>\n",
              "  </svg>\n",
              "      </button>\n",
              "      \n",
              "  <style>\n",
              "    .colab-df-container {\n",
              "      display:flex;\n",
              "      flex-wrap:wrap;\n",
              "      gap: 12px;\n",
              "    }\n",
              "\n",
              "    .colab-df-convert {\n",
              "      background-color: #E8F0FE;\n",
              "      border: none;\n",
              "      border-radius: 50%;\n",
              "      cursor: pointer;\n",
              "      display: none;\n",
              "      fill: #1967D2;\n",
              "      height: 32px;\n",
              "      padding: 0 0 0 0;\n",
              "      width: 32px;\n",
              "    }\n",
              "\n",
              "    .colab-df-convert:hover {\n",
              "      background-color: #E2EBFA;\n",
              "      box-shadow: 0px 1px 2px rgba(60, 64, 67, 0.3), 0px 1px 3px 1px rgba(60, 64, 67, 0.15);\n",
              "      fill: #174EA6;\n",
              "    }\n",
              "\n",
              "    [theme=dark] .colab-df-convert {\n",
              "      background-color: #3B4455;\n",
              "      fill: #D2E3FC;\n",
              "    }\n",
              "\n",
              "    [theme=dark] .colab-df-convert:hover {\n",
              "      background-color: #434B5C;\n",
              "      box-shadow: 0px 1px 3px 1px rgba(0, 0, 0, 0.15);\n",
              "      filter: drop-shadow(0px 1px 2px rgba(0, 0, 0, 0.3));\n",
              "      fill: #FFFFFF;\n",
              "    }\n",
              "  </style>\n",
              "\n",
              "      <script>\n",
              "        const buttonEl =\n",
              "          document.querySelector('#df-c4b4b14e-da65-4486-a72d-18637ac7578f button.colab-df-convert');\n",
              "        buttonEl.style.display =\n",
              "          google.colab.kernel.accessAllowed ? 'block' : 'none';\n",
              "\n",
              "        async function convertToInteractive(key) {\n",
              "          const element = document.querySelector('#df-c4b4b14e-da65-4486-a72d-18637ac7578f');\n",
              "          const dataTable =\n",
              "            await google.colab.kernel.invokeFunction('convertToInteractive',\n",
              "                                                     [key], {});\n",
              "          if (!dataTable) return;\n",
              "\n",
              "          const docLinkHtml = 'Like what you see? Visit the ' +\n",
              "            '<a target=\"_blank\" href=https://colab.research.google.com/notebooks/data_table.ipynb>data table notebook</a>'\n",
              "            + ' to learn more about interactive tables.';\n",
              "          element.innerHTML = '';\n",
              "          dataTable['output_type'] = 'display_data';\n",
              "          await google.colab.output.renderOutput(dataTable, element);\n",
              "          const docLink = document.createElement('div');\n",
              "          docLink.innerHTML = docLinkHtml;\n",
              "          element.appendChild(docLink);\n",
              "        }\n",
              "      </script>\n",
              "    </div>\n",
              "  </div>\n",
              "  "
            ]
          },
          "metadata": {},
          "execution_count": 7
        }
      ]
    },
    {
      "cell_type": "code",
      "source": [
        "y = df['productivity']\n",
        "y"
      ],
      "metadata": {
        "colab": {
          "base_uri": "https://localhost:8080/"
        },
        "id": "OGwmneUBTuAw",
        "outputId": "cc071487-5ca8-4541-f499-5e87664ed882"
      },
      "execution_count": null,
      "outputs": [
        {
          "output_type": "execute_result",
          "data": {
            "text/plain": [
              "0     1125\n",
              "1      471\n",
              "2      863\n",
              "3      419\n",
              "4      749\n",
              "      ... \n",
              "95     685\n",
              "96     702\n",
              "97     881\n",
              "98     759\n",
              "99     854\n",
              "Name: productivity, Length: 100, dtype: int64"
            ]
          },
          "metadata": {},
          "execution_count": 8
        }
      ]
    },
    {
      "cell_type": "markdown",
      "source": [
        "We will now split the data into a training set and a testing set.  This will help to train the model and test for accuracy."
      ],
      "metadata": {
        "id": "8V3WpCFiT8UI"
      }
    },
    {
      "cell_type": "code",
      "source": [
        "# importing train_test_split from sklearn\n",
        "from sklearn.model_selection import train_test_split\n",
        "# splitting the data\n",
        "x_train, x_test, y_train, y_test = train_test_split(X, y, test_size = 0.2, random_state = 42)"
      ],
      "metadata": {
        "id": "OEQGqWPRUEQ7"
      },
      "execution_count": null,
      "outputs": []
    },
    {
      "cell_type": "markdown",
      "source": [
        "Now we are ready to apply the multiplelinear regression to our data."
      ],
      "metadata": {
        "id": "-3v8eah0UNXA"
      }
    },
    {
      "cell_type": "code",
      "source": [
        "# importing module\n",
        "from sklearn.linear_model import LinearRegression\n",
        "# creating an object of LinearRegression class\n",
        "LR = LinearRegression()\n",
        "# fitting the training data\n",
        "LR.fit(x_train,y_train)\n",
        "model = sm.OLS(y_train,x_train).fit()"
      ],
      "metadata": {
        "id": "L2YjWA7mUS0I"
      },
      "execution_count": null,
      "outputs": []
    },
    {
      "cell_type": "markdown",
      "source": [
        "The following shows the multiple linear regression intercept and coefficients."
      ],
      "metadata": {
        "id": "ofibB-8PV-5c"
      }
    },
    {
      "cell_type": "code",
      "source": [
        "#Intercept and Coefficient\n",
        "print(\"Intercept: \", LR.intercept_)\n",
        "print(\"Coefficients:\")\n",
        "list(zip(X, LR.coef_))"
      ],
      "metadata": {
        "colab": {
          "base_uri": "https://localhost:8080/"
        },
        "id": "HLrNus-rV4tk",
        "outputId": "f7112a6d-f574-4a1f-9dcb-ef6bba16a0ae"
      },
      "execution_count": null,
      "outputs": [
        {
          "output_type": "stream",
          "name": "stdout",
          "text": [
            "Intercept:  46.18136926372006\n",
            "Coefficients:\n"
          ]
        },
        {
          "output_type": "execute_result",
          "data": {
            "text/plain": [
              "[('const', 0.0),\n",
              " ('reg_hours', -0.0030026173469478445),\n",
              " ('ot_hours', -0.03370201375062166),\n",
              " ('vac_hours', 0.43284085074260503),\n",
              " ('task1_hrs', 0.02460934768761197),\n",
              " ('task2_hrs', -0.003503946016551407),\n",
              " ('task3_hrs', 0.9411875934996538),\n",
              " ('task4_hrs', 1.007513257927923)]"
            ]
          },
          "metadata": {},
          "execution_count": 17
        }
      ]
    },
    {
      "cell_type": "markdown",
      "source": [
        "The following performs predictions on the model."
      ],
      "metadata": {
        "id": "iEKmmYKrWOQu"
      }
    },
    {
      "cell_type": "code",
      "source": [
        "y_prediction =  LR.predict(x_test)\n",
        "y_prediction"
      ],
      "metadata": {
        "colab": {
          "base_uri": "https://localhost:8080/"
        },
        "id": "9JTqWN6aUZrN",
        "outputId": "d326459e-26b3-4022-efb3-8b33af900e15"
      },
      "execution_count": null,
      "outputs": [
        {
          "output_type": "execute_result",
          "data": {
            "text/plain": [
              "array([ 667.94920044,  989.58520271,  883.06726015,  915.16481536,\n",
              "        543.11663093,  331.70662632,  870.68078955,  368.31422921,\n",
              "        663.82639354, 1096.80389917, 1051.90315019,  778.74633207,\n",
              "        795.37333258, 1065.74670535,  734.31474695,  936.82751471,\n",
              "        959.99812314,  417.65591907,  765.50441702,  317.35963159])"
            ]
          },
          "metadata": {},
          "execution_count": 18
        }
      ]
    },
    {
      "cell_type": "markdown",
      "source": [
        "The following compares the actual values with the predicted values."
      ],
      "metadata": {
        "id": "FFzWS8gAW62t"
      }
    },
    {
      "cell_type": "code",
      "source": [
        "#Actual value and the predicted value\n",
        "LR_diff = pd.DataFrame({'Actual value': y_test, 'Predicted value': y_prediction})\n",
        "LR_diff.head()"
      ],
      "metadata": {
        "colab": {
          "base_uri": "https://localhost:8080/",
          "height": 206
        },
        "id": "sZvjTktFWUgj",
        "outputId": "67ebf6d1-4506-4bf1-b413-998be1778e63"
      },
      "execution_count": null,
      "outputs": [
        {
          "output_type": "execute_result",
          "data": {
            "text/plain": [
              "    Actual value  Predicted value\n",
              "83           568       667.949200\n",
              "53           930       989.585203\n",
              "70          1026       883.067260\n",
              "45          1042       915.164815\n",
              "44           535       543.116631"
            ],
            "text/html": [
              "\n",
              "  <div id=\"df-9f6d9dc9-1748-4a01-822b-c77028d884dd\">\n",
              "    <div class=\"colab-df-container\">\n",
              "      <div>\n",
              "<style scoped>\n",
              "    .dataframe tbody tr th:only-of-type {\n",
              "        vertical-align: middle;\n",
              "    }\n",
              "\n",
              "    .dataframe tbody tr th {\n",
              "        vertical-align: top;\n",
              "    }\n",
              "\n",
              "    .dataframe thead th {\n",
              "        text-align: right;\n",
              "    }\n",
              "</style>\n",
              "<table border=\"1\" class=\"dataframe\">\n",
              "  <thead>\n",
              "    <tr style=\"text-align: right;\">\n",
              "      <th></th>\n",
              "      <th>Actual value</th>\n",
              "      <th>Predicted value</th>\n",
              "    </tr>\n",
              "  </thead>\n",
              "  <tbody>\n",
              "    <tr>\n",
              "      <th>83</th>\n",
              "      <td>568</td>\n",
              "      <td>667.949200</td>\n",
              "    </tr>\n",
              "    <tr>\n",
              "      <th>53</th>\n",
              "      <td>930</td>\n",
              "      <td>989.585203</td>\n",
              "    </tr>\n",
              "    <tr>\n",
              "      <th>70</th>\n",
              "      <td>1026</td>\n",
              "      <td>883.067260</td>\n",
              "    </tr>\n",
              "    <tr>\n",
              "      <th>45</th>\n",
              "      <td>1042</td>\n",
              "      <td>915.164815</td>\n",
              "    </tr>\n",
              "    <tr>\n",
              "      <th>44</th>\n",
              "      <td>535</td>\n",
              "      <td>543.116631</td>\n",
              "    </tr>\n",
              "  </tbody>\n",
              "</table>\n",
              "</div>\n",
              "      <button class=\"colab-df-convert\" onclick=\"convertToInteractive('df-9f6d9dc9-1748-4a01-822b-c77028d884dd')\"\n",
              "              title=\"Convert this dataframe to an interactive table.\"\n",
              "              style=\"display:none;\">\n",
              "        \n",
              "  <svg xmlns=\"http://www.w3.org/2000/svg\" height=\"24px\"viewBox=\"0 0 24 24\"\n",
              "       width=\"24px\">\n",
              "    <path d=\"M0 0h24v24H0V0z\" fill=\"none\"/>\n",
              "    <path d=\"M18.56 5.44l.94 2.06.94-2.06 2.06-.94-2.06-.94-.94-2.06-.94 2.06-2.06.94zm-11 1L8.5 8.5l.94-2.06 2.06-.94-2.06-.94L8.5 2.5l-.94 2.06-2.06.94zm10 10l.94 2.06.94-2.06 2.06-.94-2.06-.94-.94-2.06-.94 2.06-2.06.94z\"/><path d=\"M17.41 7.96l-1.37-1.37c-.4-.4-.92-.59-1.43-.59-.52 0-1.04.2-1.43.59L10.3 9.45l-7.72 7.72c-.78.78-.78 2.05 0 2.83L4 21.41c.39.39.9.59 1.41.59.51 0 1.02-.2 1.41-.59l7.78-7.78 2.81-2.81c.8-.78.8-2.07 0-2.86zM5.41 20L4 18.59l7.72-7.72 1.47 1.35L5.41 20z\"/>\n",
              "  </svg>\n",
              "      </button>\n",
              "      \n",
              "  <style>\n",
              "    .colab-df-container {\n",
              "      display:flex;\n",
              "      flex-wrap:wrap;\n",
              "      gap: 12px;\n",
              "    }\n",
              "\n",
              "    .colab-df-convert {\n",
              "      background-color: #E8F0FE;\n",
              "      border: none;\n",
              "      border-radius: 50%;\n",
              "      cursor: pointer;\n",
              "      display: none;\n",
              "      fill: #1967D2;\n",
              "      height: 32px;\n",
              "      padding: 0 0 0 0;\n",
              "      width: 32px;\n",
              "    }\n",
              "\n",
              "    .colab-df-convert:hover {\n",
              "      background-color: #E2EBFA;\n",
              "      box-shadow: 0px 1px 2px rgba(60, 64, 67, 0.3), 0px 1px 3px 1px rgba(60, 64, 67, 0.15);\n",
              "      fill: #174EA6;\n",
              "    }\n",
              "\n",
              "    [theme=dark] .colab-df-convert {\n",
              "      background-color: #3B4455;\n",
              "      fill: #D2E3FC;\n",
              "    }\n",
              "\n",
              "    [theme=dark] .colab-df-convert:hover {\n",
              "      background-color: #434B5C;\n",
              "      box-shadow: 0px 1px 3px 1px rgba(0, 0, 0, 0.15);\n",
              "      filter: drop-shadow(0px 1px 2px rgba(0, 0, 0, 0.3));\n",
              "      fill: #FFFFFF;\n",
              "    }\n",
              "  </style>\n",
              "\n",
              "      <script>\n",
              "        const buttonEl =\n",
              "          document.querySelector('#df-9f6d9dc9-1748-4a01-822b-c77028d884dd button.colab-df-convert');\n",
              "        buttonEl.style.display =\n",
              "          google.colab.kernel.accessAllowed ? 'block' : 'none';\n",
              "\n",
              "        async function convertToInteractive(key) {\n",
              "          const element = document.querySelector('#df-9f6d9dc9-1748-4a01-822b-c77028d884dd');\n",
              "          const dataTable =\n",
              "            await google.colab.kernel.invokeFunction('convertToInteractive',\n",
              "                                                     [key], {});\n",
              "          if (!dataTable) return;\n",
              "\n",
              "          const docLinkHtml = 'Like what you see? Visit the ' +\n",
              "            '<a target=\"_blank\" href=https://colab.research.google.com/notebooks/data_table.ipynb>data table notebook</a>'\n",
              "            + ' to learn more about interactive tables.';\n",
              "          element.innerHTML = '';\n",
              "          dataTable['output_type'] = 'display_data';\n",
              "          await google.colab.output.renderOutput(dataTable, element);\n",
              "          const docLink = document.createElement('div');\n",
              "          docLink.innerHTML = docLinkHtml;\n",
              "          element.appendChild(docLink);\n",
              "        }\n",
              "      </script>\n",
              "    </div>\n",
              "  </div>\n",
              "  "
            ]
          },
          "metadata": {},
          "execution_count": 20
        }
      ]
    },
    {
      "cell_type": "markdown",
      "source": [
        "The following performs a model evaluation to determine how accurate it is."
      ],
      "metadata": {
        "id": "qvK990wYW_Cl"
      }
    },
    {
      "cell_type": "code",
      "source": [
        "predictions = model.predict(X)\n",
        "print(model.summary())"
      ],
      "metadata": {
        "colab": {
          "base_uri": "https://localhost:8080/"
        },
        "id": "f727noAbEUiT",
        "outputId": "9c7045c8-d90c-449c-c92c-1da42a6b0db3"
      },
      "execution_count": null,
      "outputs": [
        {
          "output_type": "stream",
          "name": "stdout",
          "text": [
            "                            OLS Regression Results                            \n",
            "==============================================================================\n",
            "Dep. Variable:           productivity   R-squared:                       0.732\n",
            "Model:                            OLS   Adj. R-squared:                  0.706\n",
            "Method:                 Least Squares   F-statistic:                     28.10\n",
            "Date:                Thu, 14 Apr 2022   Prob (F-statistic):           3.18e-18\n",
            "Time:                        03:13:50   Log-Likelihood:                -486.69\n",
            "No. Observations:                  80   AIC:                             989.4\n",
            "Df Residuals:                      72   BIC:                             1008.\n",
            "Df Model:                           7                                         \n",
            "Covariance Type:            nonrobust                                         \n",
            "==============================================================================\n",
            "                 coef    std err          t      P>|t|      [0.025      0.975]\n",
            "------------------------------------------------------------------------------\n",
            "const         46.1814    135.171      0.342      0.734    -223.277     315.640\n",
            "reg_hours     -0.0030      0.062     -0.048      0.962      -0.127       0.121\n",
            "ot_hours      -0.0337      0.098     -0.342      0.733      -0.230       0.163\n",
            "vac_hours      0.4328      0.629      0.688      0.494      -0.821       1.687\n",
            "task1_hrs      0.0246      0.094      0.261      0.795      -0.164       0.213\n",
            "task2_hrs     -0.0035      0.091     -0.038      0.969      -0.186       0.178\n",
            "task3_hrs      0.9412      0.093     10.151      0.000       0.756       1.126\n",
            "task4_hrs      1.0075      0.098     10.284      0.000       0.812       1.203\n",
            "==============================================================================\n",
            "Omnibus:                       28.029   Durbin-Watson:                   1.838\n",
            "Prob(Omnibus):                  0.000   Jarque-Bera (JB):                5.773\n",
            "Skew:                          -0.237   Prob(JB):                       0.0558\n",
            "Kurtosis:                       1.772   Cond. No.                     2.08e+04\n",
            "==============================================================================\n",
            "\n",
            "Warnings:\n",
            "[1] Standard Errors assume that the covariance matrix of the errors is correctly specified.\n",
            "[2] The condition number is large, 2.08e+04. This might indicate that there are\n",
            "strong multicollinearity or other numerical problems.\n"
          ]
        }
      ]
    },
    {
      "cell_type": "code",
      "source": [
        "#Model Evaluation\n",
        "from sklearn import metrics\n",
        "from sklearn.metrics import r2_score\n",
        "meanAbErr = metrics.mean_absolute_error(y_test, y_prediction)\n",
        "meanSqErr = metrics.mean_squared_error(y_test, y_prediction)\n",
        "rootMeanSqErr = np.sqrt(metrics.mean_squared_error(y_test, y_prediction))\n",
        "print('R squared: ', r2_score(y_test, y_prediction))\n",
        "print('Mean Absolute Error:', meanAbErr)\n",
        "print('Mean Square Error:', meanSqErr)\n",
        "print('Root Mean Square Error:', rootMeanSqErr)"
      ],
      "metadata": {
        "colab": {
          "base_uri": "https://localhost:8080/"
        },
        "id": "x7V9c8XTXGFT",
        "outputId": "ecc08a7c-81bc-4d83-a9e8-4efbbf06488c"
      },
      "execution_count": null,
      "outputs": [
        {
          "output_type": "stream",
          "name": "stdout",
          "text": [
            "R squared:  0.8464463512865249\n",
            "Mean Absolute Error: 87.16950636602738\n",
            "Mean Square Error: 10103.69188706282\n",
            "Root Mean Square Error: 100.5171223576502\n"
          ]
        }
      ]
    },
    {
      "cell_type": "markdown",
      "source": [
        "The R-Squared value of 0.84 suggests that 84% of the data fits the regression model, which is very good."
      ],
      "metadata": {
        "id": "bzgYzXNfXzWJ"
      }
    },
    {
      "cell_type": "markdown",
      "source": [
        "The Mean Absolute Error is the absolute difference between the actual or true values and the predicted values. The lower the value, the better is the model’s performance. For this model we got a score of 136 which further indicates that the model is somewhat accurate."
      ],
      "metadata": {
        "id": "7Q4ETZMsZDjq"
      }
    },
    {
      "cell_type": "markdown",
      "source": [
        "The Mean Square Error is calculated by taking the average of the square of the difference between the original and predicted values of the data. The lower the value, the better is the model’s performance. The mean square error for this model was really high, 10,103, further showing signs of an inaccurate model."
      ],
      "metadata": {
        "id": "_ga0aSKyZWBQ"
      }
    },
    {
      "cell_type": "markdown",
      "source": [
        "The Root Mean Square Error is the standard deviation of the errors which occur when a prediction is made on a dataset. This is the same as Mean Squared Error, but the root of the value is considered while determining the accuracy of the model. The lower the value, the better is the model’s performance. The root mean square error obtained for this particular model is 100, which is pretty high and not very good."
      ],
      "metadata": {
        "id": "zc0BoQmQZliC"
      }
    },
    {
      "cell_type": "markdown",
      "source": [
        "Conclusion:\n",
        "\n",
        "The dataset that was used to predict employee productivity shows a very bad performance.  One of the reasons for this lack of accuracy could be because the employee's productivity relies on storm callouts and since those are random, this model might not be doing a good job at predicting the future. "
      ],
      "metadata": {
        "id": "qunmjCzJZvvP"
      }
    }
  ]
}